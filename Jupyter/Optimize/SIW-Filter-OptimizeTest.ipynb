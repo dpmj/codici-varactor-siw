{
 "cells": [
  {
   "cell_type": "markdown",
   "id": "14032af2-a0eb-4631-bd45-f4abdccc7f29",
   "metadata": {},
   "source": [
    "# R&S ZNB/ZNBT VNA - Optimize test program\n",
    "\n",
    "- **Author:** Juan del Pino Mena\n",
    "- **Version:** v01\n",
    "- **Date:** 2024-02-19\n"
   ]
  },
  {
   "cell_type": "markdown",
   "id": "007b05df-057b-41a3-b106-d8e1d15813a3",
   "metadata": {},
   "source": [
    "---\n",
    "\n",
    "# Introduction\n",
    "\n",
    "This program performs a simple single optimization process\n",
    "\n",
    "## Requirements\n",
    "\n",
    "- `numpy`: For vector manipulation\n",
    "- `matplotlib`: For plotting data\n",
    "- `socketscpi`: For communication with SCPI commands over sockets.\n",
    "    - docs: https://socketscpi.readthedocs.io/en/latest/index.html\n",
    "    - original repo: https://github.com/morgan-at-keysight/socketscpi\n",
    "    - backup fork: https://github.com/dpmj/socketscpi\n",
    "\n",
    "Execute this notebook on a virtual environment for safety: https://medium.com/@royce963/setting-up-jupyterlab-and-a-virtual-environment-c79002e0e5f7\n",
    "\n",
    "\n",
    "## VNA network interface configuration\n",
    "\n",
    "1. Connect the function generator and your PC to the same local network. **They even can be connected directly via an Ethernet cable.**\n",
    "2. Make sure you are connected to the same LAN as the VNA, and that they have compatible IP addresses. To check your IP, type `ipconfig` (windows), or `ifconfig` // `ip addr` (linux).\n",
    "3. For convenience, this guide sets a fixed IP to the VNA.\n",
    "4. Check if the device is accessible: Do a ping to the device: `ping 10.10.0.152` (windows & linux).\n",
    "\n",
    "\n",
    "## Fixed IP setup on the VNA\n",
    "\n",
    "**By default, the R&S VNA has address `10.10.0.152`, with mask `/8`.** Changing the IP is possible but requires an admin password. **In this document, this IP is not changed** If needed, follow these steps:\n",
    "\n",
    "1. Press the windows key\n",
    "2. Control panel >> Network and sharing center >> Change adapter settings >> local connection (right click) >> Properties\n",
    "3. Connection properties >> Internet Protocol Version 4 (TCP/IPv4) >> Properties\n",
    "4. Enter the IP configuration\n",
    "5. The port for programming the VNA shall be always `5025`\n",
    "\n",
    "## Fixed IP setup on your PC\n",
    "\n",
    "- On Linux:\n",
    "    `sudo ip addr add 10.10.0.151/8 dev enp3s0` (CHANGE `enp3s0` ACCORDING TO THE NAME OF YOUR ETHERNET INTERFACE)\n",
    "- On Windows: similar steps as in the VNA.\n",
    "\n",
    "## Calibration\n",
    "\n",
    "Ensure the VNA is properly calibrated before measuring. There shall be a calibration file already available and suitable on the VNA. Go to CAL >> USE CAL >> CAL MANAGER. In the Pool (right window), select \"Reconf-Filter-2-6G-201\". Contains the calibration data for a 2-to-6 GHz bandwidth with 201 points per trace using the Agilent 85052C calibration kit. Once selected, click \"Apply\" on the center of the screen.\n",
    "\n",
    "## Known problems\n",
    "\n",
    "When using the `socketscpi` package, this error may appear on screen:\n",
    "\n",
    "    Remote error -113: Undefined header;\n",
    "    syst:err:verbose 1\n",
    "\n",
    "This is due an internal command `socketscpi` sends to the VNA trying to explain other errors. This is not important and can be ignored. To avoid this, set `verboseErrCheck=False` when calling `socketscpi.SocketInstrument()`. See below.\n",
    "\n",
    "---"
   ]
  },
  {
   "cell_type": "markdown",
   "id": "11aa294c-536f-46af-a158-4db871bae55b",
   "metadata": {},
   "source": [
    "# Program & measurement config"
   ]
  },
  {
   "cell_type": "code",
   "execution_count": 2,
   "id": "2573a506-cfe0-4fe1-b235-e672d344fe66",
   "metadata": {},
   "outputs": [
    {
     "ename": "ModuleNotFoundError",
     "evalue": "No module named 'socketscpi'",
     "output_type": "error",
     "traceback": [
      "\u001b[0;31m---------------------------------------------------------------------------\u001b[0m",
      "\u001b[0;31mModuleNotFoundError\u001b[0m                       Traceback (most recent call last)",
      "Cell \u001b[0;32mIn[2], line 3\u001b[0m\n\u001b[1;32m      1\u001b[0m \u001b[38;5;66;03m# Import dependencies. Install any missing dependencies with pip/conda inside the virtual environment\u001b[39;00m\n\u001b[0;32m----> 3\u001b[0m \u001b[38;5;28;01mimport\u001b[39;00m \u001b[38;5;21;01msocketscpi\u001b[39;00m\n\u001b[1;32m      4\u001b[0m \u001b[38;5;28;01mimport\u001b[39;00m \u001b[38;5;21;01mnumpy\u001b[39;00m \u001b[38;5;28;01mas\u001b[39;00m \u001b[38;5;21;01mnp\u001b[39;00m\n\u001b[1;32m      5\u001b[0m \u001b[38;5;28;01mfrom\u001b[39;00m \u001b[38;5;21;01mscipy\u001b[39;00m \u001b[38;5;28;01mimport\u001b[39;00m optimize\n",
      "\u001b[0;31mModuleNotFoundError\u001b[0m: No module named 'socketscpi'"
     ]
    }
   ],
   "source": [
    "# Import dependencies. Install any missing dependencies with pip/conda inside the virtual environment\n",
    "\n",
    "import socketscpi\n",
    "import numpy as np\n",
    "from scipy import optimize\n",
    "from matplotlib import pyplot as plt"
   ]
  },
  {
   "cell_type": "code",
   "execution_count": 12,
   "id": "b285b2a0-1933-41c5-b082-287bd1ad0cbb",
   "metadata": {},
   "outputs": [],
   "source": [
    "# Parameters - global variables\n",
    "\n",
    "HOST = \"10.10.0.152\"  # [str] Instrument IP address. Default: \"10.10.0.152\"\n",
    "PORT = 5025  # [int] Instrument listening port. Default: 5025\n",
    "TIMEOUT = 10  # [s] How many seconds to wait for a response. Default: 10\n",
    "\n",
    "F_MIN = 2e9  # [Hz] Default: 2e9 (2 GHz)\n",
    "F_MAX = 6e9  # [Hz] Default: 6e9 (6 GHz)\n",
    "N_POINTS = 201  # Number of measurement points\n",
    "\n",
    "FREQ = np.linspace(F_MIN, F_MAX, N_POINTS)  # Frequency vector, for plotting"
   ]
  },
  {
   "cell_type": "markdown",
   "id": "477c1080-8158-45ec-aee4-89262b1dfc4f",
   "metadata": {},
   "source": [
    "# Functions"
   ]
  },
  {
   "cell_type": "code",
   "execution_count": 13,
   "id": "1250c8d8-a962-48ac-9535-a27ebb00bad5",
   "metadata": {},
   "outputs": [],
   "source": [
    "def vna_setup():\n",
    "    \"\"\"\n",
    "    Performs a reset and setups the VNA with default known parameters. \n",
    "    \"\"\"\n",
    "    \n",
    "    vna = socketscpi.SocketInstrument(ipAddress=HOST, \n",
    "                                      port=PORT, \n",
    "                                      timeout=TIMEOUT, \n",
    "                                      verboseErrCheck = False)\n",
    "    \n",
    "    print(vna.instId)  # Identifies the instrument\n",
    "    \n",
    "    # ####################################################################################\n",
    "    # Reset\n",
    "\n",
    "    vna.write(\"*RST\")  # Reset\n",
    "    vna.write(\"INIT:CONT:ALL OFF\")  # Disables continuous mode even for new traces\n",
    "    vna.write(\"CALC:PAR:DEL:ALL\")  # Delete all traces, blanks screen\n",
    "    vna.write(\"*WAI\")  # Waits until completed before proceeding with next command\n",
    "\n",
    "    # ####################################################################################\n",
    "    # Establishes start, stop and number of points\n",
    "    \n",
    "    vna.write('SENS:FREQ:STAR ' + str(F_MIN))  # Set lower frequency bound\n",
    "    vna.write('SENS:FREQ:STOP ' + str(F_MAX))  # Set upper frequency bound\n",
    "    vna.write('SENS:SWE:POIN ' + str(N_POINTS))  # Set number of points per trace\n",
    "    vna.write(\"*WAI\")  # Waits until completed before proceeding with next command\n",
    "\n",
    "    # ####################################################################################\n",
    "    # Creates new traces and measurements. Pag 864\n",
    "    # Channel 1 (CALC1, number omitted). Measures magnitude in dB and phase in degrees\n",
    "    \n",
    "    vna.write(\"CALC:PAR:SDEF 'Trc1_mlog', 'S11'\")\n",
    "    vna.write(\"CALC:PAR:SEL 'Trc1_mlog'\")\n",
    "    vna.write(\"CALC:FORM MLOG\")  # MLOG: Magnitude,dB. Pag 807\n",
    "    \n",
    "    vna.write(\"CALC:PAR:SDEF 'Trc1_phas', 'S11'\")\n",
    "    vna.write(\"CALC:PAR:SEL 'Trc1_phas'\")\n",
    "    vna.write(\"CALC:FORM PHAS\")  # PHAS: Phase,deg. Pag 807\n",
    "    \n",
    "    vna.write(\"CALC:PAR:SDEF 'Trc2_mlog', 'S12'\")\n",
    "    vna.write(\"CALC:PAR:SEL 'Trc2_mlog'\")\n",
    "    vna.write(\"CALC:FORM MLOG\")\n",
    "    \n",
    "    vna.write(\"CALC:PAR:SDEF 'Trc2_phas', 'S12'\")\n",
    "    vna.write(\"CALC:PAR:SEL 'Trc2_phas'\")\n",
    "    vna.write(\"CALC:FORM PHAS\")\n",
    "    \n",
    "    vna.write(\"CALC:PAR:SDEF 'Trc3_mlog', 'S21'\")\n",
    "    vna.write(\"CALC:PAR:SEL 'Trc3_mlog'\")\n",
    "    vna.write(\"CALC:FORM MLOG\")\n",
    "    \n",
    "    vna.write(\"CALC:PAR:SDEF 'Trc3_phas', 'S21'\")\n",
    "    vna.write(\"CALC:PAR:SEL 'Trc3_phas'\")\n",
    "    vna.write(\"CALC:FORM PHAS\")\n",
    "    \n",
    "    vna.write(\"CALC:PAR:SDEF 'Trc4_mlog', 'S22'\")\n",
    "    vna.write(\"CALC:PAR:SEL 'Trc4_mlog'\")\n",
    "    vna.write(\"CALC:FORM MLOG\")\n",
    "    \n",
    "    vna.write(\"CALC:PAR:SDEF 'Trc4_phas', 'S22'\")\n",
    "    vna.write(\"CALC:PAR:SEL 'Trc4_phas'\")\n",
    "    vna.write(\"CALC:FORM PHAS\")\n",
    "    \n",
    "    vna.write(\"*WAI\")  # Waits until completed before proceeding with next command\n",
    "    \n",
    "    # ####################################################################################\n",
    "    # Display traces on the screen. Single sweep (only one measurement)\n",
    "    \n",
    "    vna.write(\"DISP:WIND1:STAT ON\")  # Turn on window 1\n",
    "    \n",
    "    vna.write(\"DISP:WIND1:TRAC1:FEED 'Trc1_mlog'\")  # Add traces\n",
    "    vna.write(\"DISP:WIND1:TRAC2:FEED 'Trc2_mlog'\")\n",
    "    vna.write(\"DISP:WIND1:TRAC3:FEED 'Trc3_mlog'\")\n",
    "    vna.write(\"DISP:WIND1:TRAC4:FEED 'Trc4_mlog'\")\n",
    "    \n",
    "    vna.write(\"DISP:WIND1:TRAC5:FEED 'Trc1_phas'\")\n",
    "    vna.write(\"DISP:WIND1:TRAC6:FEED 'Trc2_phas'\")\n",
    "    vna.write(\"DISP:WIND1:TRAC7:FEED 'Trc3_phas'\")\n",
    "    vna.write(\"DISP:WIND1:TRAC8:FEED 'Trc4_phas'\")\n",
    "    \n",
    "    vna.write(\"INIT:IMM; *WAI\")  # Perform a single sweep and wait until completed\n",
    "\n",
    "    # ####################################################################################\n",
    "    # Set data format - Swapped byte order, float32.\n",
    "    \n",
    "    vna.write('format:border swap')  # Swapped byte order\n",
    "    vna.write('format real,32')  # 32-bit precision float\n",
    "    vna.write(\"*WAI\")  # Waits until completed before proceeding with next command\n",
    "\n",
    "    # ####################################################################################\n",
    "    # Check errors. Close socket.\n",
    "    \n",
    "    vna.err_check()\n",
    "    vna.close()"
   ]
  },
  {
   "cell_type": "code",
   "execution_count": 14,
   "id": "96cf8c8b-2ed9-426a-b95d-f586d6907a0d",
   "metadata": {},
   "outputs": [],
   "source": [
    "def vna_measure_once():\n",
    "    \"\"\"\n",
    "    Performs a sweep and measure all data. Returns the measurement as a matrix.\n",
    "    \"\"\"\n",
    "    \n",
    "    vna = socketscpi.SocketInstrument(ipAddress=HOST, \n",
    "                                      port=PORT, \n",
    "                                      timeout=TIMEOUT, \n",
    "                                      verboseErrCheck = False)\n",
    "    \n",
    "    vna.write(\"INIT:IMM; *WAI\")  # Perform a single sweep and wait until completed\n",
    "    \n",
    "    vna.write('format:border swap')  # Swapped byte order\n",
    "    vna.write('format real,32')  # 32-bit precision float\n",
    "    vna.write(\"*WAI\")  # Waits until completed before proceeding with next command\n",
    "    \n",
    "    data = vna.query_binary_values('CALC:DATA:ALL? FDAT', datatype='f')\n",
    "    \n",
    "    vna.err_check()\n",
    "    vna.close()\n",
    "\n",
    "    meas = data.reshape(8, N_POINTS)  # Reshape: 8 columns, of N_POINTS rows.\n",
    "    \n",
    "    return meas"
   ]
  },
  {
   "cell_type": "code",
   "execution_count": 15,
   "id": "90199b13-2c4e-4b16-9174-3657cb0aa5bf",
   "metadata": {},
   "outputs": [],
   "source": [
    "def plot_measurement(measurement):\n",
    "    \"\"\"\n",
    "    Plots data (in the expected 8-column, of N_POINTS-row format.)\n",
    "    \"\"\"\n",
    "\n",
    "    fig, (ax1, ax2) = plt.subplots(2, figsize=[12, 10])\n",
    "    \n",
    "    fig.suptitle(\"Data retrieved from VNA - Magnitude and phase\")\n",
    "    ax1.set_title('Data - Magnitude')\n",
    "    # ax1.set_xlabel('Freq (Hz)')\n",
    "    ax1.set_ylabel('Magnitude (dB)')\n",
    "    ax2.set_title('Data - Phase')\n",
    "    ax2.set_xlabel('Freq (Hz)')\n",
    "    ax2.set_ylabel('Phase (º)')\n",
    "    \n",
    "    ax1.plot(FREQ, measurement[0][:], label=\"Trc1,S11,mlog\")\n",
    "    ax1.plot(FREQ, measurement[2][:], label=\"Trc2,S21,mlog\")\n",
    "    ax1.plot(FREQ, measurement[4][:], label=\"Trc3,S12,mlog\")\n",
    "    ax1.plot(FREQ, measurement[6][:], label=\"Trc4,S22,mlog\")\n",
    "    \n",
    "    ax1.grid(True, which='major', color='#DDDDDD', linestyle='-', linewidth=0.8)\n",
    "    ax1.grid(True, which='minor', color='#DDDDDD', linestyle=':', linewidth=0.8)\n",
    "    ax1.minorticks_on()\n",
    "    ax1.legend(loc=\"center right\")\n",
    "    \n",
    "    plt.plot(FREQ, measurement[1][:], label=\"Trc1,S11,phas\")\n",
    "    plt.plot(FREQ, measurement[3][:], label=\"Trc2,S21,phas\")\n",
    "    plt.plot(FREQ, measurement[5][:], label=\"Trc3,S12,phas\")\n",
    "    plt.plot(FREQ, measurement[7][:], label=\"Trc4,S22,phas\")\n",
    "    \n",
    "    ax2.grid(True, which='major', color='#DDDDDD', linestyle='-', linewidth=0.8)\n",
    "    ax2.grid(True, which='minor', color='#DDDDDD', linestyle=':', linewidth=0.8)\n",
    "    ax2.minorticks_on()\n",
    "    ax2.legend(loc=\"center right\")\n",
    "        \n",
    "    plt.show()"
   ]
  },
  {
   "cell_type": "code",
   "execution_count": 16,
   "id": "da4d92bf-7ad9-46b3-b809-d524dc628148",
   "metadata": {},
   "outputs": [
    {
     "ename": "TimeoutError",
     "evalue": "timed out",
     "output_type": "error",
     "traceback": [
      "\u001b[0;31m---------------------------------------------------------------------------\u001b[0m",
      "\u001b[0;31mTimeoutError\u001b[0m                              Traceback (most recent call last)",
      "Cell \u001b[0;32mIn[16], line 1\u001b[0m\n\u001b[0;32m----> 1\u001b[0m \u001b[43mvna_setup\u001b[49m\u001b[43m(\u001b[49m\u001b[43m)\u001b[49m\n",
      "Cell \u001b[0;32mIn[13], line 6\u001b[0m, in \u001b[0;36mvna_setup\u001b[0;34m()\u001b[0m\n\u001b[1;32m      1\u001b[0m \u001b[38;5;28;01mdef\u001b[39;00m \u001b[38;5;21mvna_setup\u001b[39m():\n\u001b[1;32m      2\u001b[0m \u001b[38;5;250m    \u001b[39m\u001b[38;5;124;03m\"\"\"\u001b[39;00m\n\u001b[1;32m      3\u001b[0m \u001b[38;5;124;03m    Performs a reset and setups the VNA with default known parameters. \u001b[39;00m\n\u001b[1;32m      4\u001b[0m \u001b[38;5;124;03m    \"\"\"\u001b[39;00m\n\u001b[0;32m----> 6\u001b[0m     vna \u001b[38;5;241m=\u001b[39m \u001b[43msocketscpi\u001b[49m\u001b[38;5;241;43m.\u001b[39;49m\u001b[43mSocketInstrument\u001b[49m\u001b[43m(\u001b[49m\u001b[43mipAddress\u001b[49m\u001b[38;5;241;43m=\u001b[39;49m\u001b[43mHOST\u001b[49m\u001b[43m,\u001b[49m\u001b[43m \u001b[49m\n\u001b[1;32m      7\u001b[0m \u001b[43m                                      \u001b[49m\u001b[43mport\u001b[49m\u001b[38;5;241;43m=\u001b[39;49m\u001b[43mPORT\u001b[49m\u001b[43m,\u001b[49m\u001b[43m \u001b[49m\n\u001b[1;32m      8\u001b[0m \u001b[43m                                      \u001b[49m\u001b[43mtimeout\u001b[49m\u001b[38;5;241;43m=\u001b[39;49m\u001b[43mTIMEOUT\u001b[49m\u001b[43m,\u001b[49m\u001b[43m \u001b[49m\n\u001b[1;32m      9\u001b[0m \u001b[43m                                      \u001b[49m\u001b[43mverboseErrCheck\u001b[49m\u001b[43m \u001b[49m\u001b[38;5;241;43m=\u001b[39;49m\u001b[43m \u001b[49m\u001b[38;5;28;43;01mFalse\u001b[39;49;00m\u001b[43m)\u001b[49m\n\u001b[1;32m     11\u001b[0m     \u001b[38;5;28mprint\u001b[39m(vna\u001b[38;5;241m.\u001b[39minstId)  \u001b[38;5;66;03m# Identifies the instrument\u001b[39;00m\n\u001b[1;32m     13\u001b[0m     \u001b[38;5;66;03m# ####################################################################################\u001b[39;00m\n\u001b[1;32m     14\u001b[0m     \u001b[38;5;66;03m# Reset\u001b[39;00m\n",
      "File \u001b[0;32m~/ReconfigurableFilter/Jupyter/venv/lib/python3.11/site-packages/socketscpi/socketscpi.py:44\u001b[0m, in \u001b[0;36mSocketInstrument.__init__\u001b[0;34m(self, ipAddress, port, timeout, noDelay, globalErrCheck, verboseErrCheck)\u001b[0m\n\u001b[1;32m     42\u001b[0m \u001b[38;5;28mself\u001b[39m\u001b[38;5;241m.\u001b[39msocket\u001b[38;5;241m.\u001b[39msettimeout(timeout)\n\u001b[1;32m     43\u001b[0m \u001b[38;5;66;03m# Connect to socket\u001b[39;00m\n\u001b[0;32m---> 44\u001b[0m \u001b[38;5;28;43mself\u001b[39;49m\u001b[38;5;241;43m.\u001b[39;49m\u001b[43msocket\u001b[49m\u001b[38;5;241;43m.\u001b[39;49m\u001b[43mconnect\u001b[49m\u001b[43m(\u001b[49m\u001b[43m(\u001b[49m\u001b[43mipAddress\u001b[49m\u001b[43m,\u001b[49m\u001b[43m \u001b[49m\u001b[43mport\u001b[49m\u001b[43m)\u001b[49m\u001b[43m)\u001b[49m\n\u001b[1;32m     46\u001b[0m \u001b[38;5;66;03m# Get the instrument ID\u001b[39;00m\n\u001b[1;32m     47\u001b[0m \u001b[38;5;28mself\u001b[39m\u001b[38;5;241m.\u001b[39minstId \u001b[38;5;241m=\u001b[39m \u001b[38;5;28mself\u001b[39m\u001b[38;5;241m.\u001b[39mquery(\u001b[38;5;124m'\u001b[39m\u001b[38;5;124m*idn?\u001b[39m\u001b[38;5;124m'\u001b[39m, errCheck\u001b[38;5;241m=\u001b[39m\u001b[38;5;28;01mFalse\u001b[39;00m)\n",
      "\u001b[0;31mTimeoutError\u001b[0m: timed out"
     ]
    }
   ],
   "source": [
    "vna_setup()"
   ]
  },
  {
   "cell_type": "code",
   "execution_count": null,
   "id": "f955fa26-88b8-486b-b780-2eeca2cdbcb8",
   "metadata": {},
   "outputs": [],
   "source": [
    "meas = vna_measure_once()"
   ]
  },
  {
   "cell_type": "code",
   "execution_count": 9,
   "id": "87146a40-c854-4ac1-92dd-a2e79a94f6a0",
   "metadata": {},
   "outputs": [
    {
     "ename": "NameError",
     "evalue": "name 'meas' is not defined",
     "output_type": "error",
     "traceback": [
      "\u001b[0;31m---------------------------------------------------------------------------\u001b[0m",
      "\u001b[0;31mNameError\u001b[0m                                 Traceback (most recent call last)",
      "Cell \u001b[0;32mIn[9], line 1\u001b[0m\n\u001b[0;32m----> 1\u001b[0m plot_measurement(\u001b[43mmeas\u001b[49m)\n",
      "\u001b[0;31mNameError\u001b[0m: name 'meas' is not defined"
     ]
    }
   ],
   "source": [
    "plot_measurement(meas)"
   ]
  },
  {
   "cell_type": "markdown",
   "id": "6c84f4c3-f76a-463d-a5d0-41fa6fec609e",
   "metadata": {},
   "source": [
    "# Optimization\n",
    "\n",
    "## ERR function\n",
    "\n",
    "The goal is to minimize an objective function, also called error function, which defines how much is the difference between the objectives and the response of the system. The optimization algorithm will simply search for the minimum of this function. \n",
    "\n",
    "Variables which act upon the response function are the DAC voltage settings."
   ]
  },
  {
   "cell_type": "code",
   "execution_count": 10,
   "id": "68d89eca-e564-4732-91bb-5a4906b75d27",
   "metadata": {},
   "outputs": [],
   "source": [
    "import numpy as np"
   ]
  },
  {
   "cell_type": "code",
   "execution_count": 11,
   "id": "d1a4da58-980f-4e67-88b0-5aaa3ce8f56a",
   "metadata": {},
   "outputs": [],
   "source": [
    "# Parameters - global variables\n",
    "# Here re-declared for convenience\n",
    "\n",
    "HOST = \"10.10.0.152\"  # [str] Instrument IP address. Default: \"10.10.0.152\"\n",
    "PORT = 5025  # [int] Instrument listening port. Default: 5025\n",
    "TIMEOUT = 10  # [s] How many seconds to wait for a response. Default: 10\n",
    "\n",
    "F_MIN = 2e9  # [Hz] Default: 2e9 (2 GHz)\n",
    "F_MAX = 6e9  # [Hz] Default: 6e9 (6 GHz)\n",
    "N_POINTS = 201  # Number of measurement points\n",
    "\n",
    "FREQ = np.linspace(F_MIN, F_MAX, N_POINTS)  # Frequency vector, for plotting"
   ]
  },
  {
   "cell_type": "code",
   "execution_count": 12,
   "id": "33771873-e999-4870-84e0-460cf678c7c4",
   "metadata": {},
   "outputs": [],
   "source": [
    "def addwindow(sparam, orientation, value, flow, fhigh, weight):\n",
    "    \"\"\"\n",
    "    Defines an optimization window\n",
    "    :param sparam: S-parameter to optimize: S11, S12, S21, S22. String.\n",
    "    :param orientation: orientation: greater than, less than ('<','>')\n",
    "    :param value: value to compare to in the opt, in dB: e.g.: S11 < -20 (dB)\n",
    "    :param freq_lim_low: Lower frequency limit of the window, in GHz\n",
    "    :param freq_lim_high: Upper frequency limit of the window, in GHz\n",
    "    :param weight: Weight in the optimization algorithm. Scalar.\n",
    "    :return a standardized dict with the above parameters\n",
    "    \"\"\"\n",
    "    \n",
    "    return {'sparam': sparam,  # parameter to optimize\n",
    "            'orientation': orientation,  # orientation: greater than, less than ('<','>')\n",
    "            'value': value,  # value to compare to in the opt.: e.g.: S11 < -20 (dB)\n",
    "            'flow': freq_lim_low,  # Lower frequency limit, in GHz\n",
    "            'fhigh': freq_lim_high,  # Upper frequency limit, in GHz\n",
    "            'weight': weight}  # Weight in the optimization algorithm"
   ]
  },
  {
   "cell_type": "code",
   "execution_count": 13,
   "id": "186261e0-4ef2-4c13-b41d-00800a54a83a",
   "metadata": {},
   "outputs": [],
   "source": [
    "def checkmasks(masks):\n",
    "    \"\"\"\n",
    "    Checks mask in a masks list\n",
    "    :param masks: optimization mask (list of dicts, format: see addwindow() func.)\n",
    "    :param mat: s2p data matrix,\n",
    "    \"\"\"\n",
    "\n",
    "    valid_sparam = (\"S11\", \"S12\", \"S21\", \"S22\")\n",
    "    valid_orientation = (\"<\", \">\")\n",
    "\n",
    "    for mask in masks:\n",
    "        \n",
    "        flow = mask['flow']\n",
    "        fhigh = mask['fhigh']\n",
    "        sparam = mask['sparam']\n",
    "        orientation = mask['orientation']\n",
    "        \n",
    "        if flow < F_MIN:\n",
    "            raise Exception(f\"flow cannnot be lower than F_MIN.\\nMask: {mask}\")\n",
    "        if fhigh > F_MAX:\n",
    "            raise Exception(f\"fhigh cannnot be greater than F_MAX.\\nMask: {mask}\")\n",
    "        if flow > fhigh:\n",
    "            raise Exception(f\"flow cannnot be greater than fhigh.\\nMask: {mask}\")\n",
    "        if sparam not in valid_sparam:\n",
    "            raise Exception(f\"Unvalid S-param. Allowed: {valid_sparam}\\nMask: {mask}\")\n",
    "        if orientation not in valid_orientation:\n",
    "            raise Exception(f\"Unvalid orientation. Allowed: {valid_orientation}\\nMask: {mask}\")"
   ]
  },
  {
   "cell_type": "code",
   "execution_count": 14,
   "id": "8dcb63ee-1d90-47b1-9e42-491988ce22bc",
   "metadata": {},
   "outputs": [],
   "source": [
    "def evalerror(mat, masks):\n",
    "    \"\"\"\n",
    "    Evaluates the error in the optimization algorithm\n",
    "    :param mat: 2-port S-parameter matrix\n",
    "    :param masks: optimization mask (list of dicts, format: see addwindow() func.)\n",
    "\n",
    "    mat format:\n",
    "    Npoints rows\n",
    "    9 cols: f[Hz], s11(mag,pha)[dB], s21 (mag,pha)[dB], s12(mag,pha)[dB], s22(mag,pha)[dB]\n",
    "    \"\"\"\n",
    "\n",
    "    # indicates the column index in the s2p matrix where the mangitude of each s-param is. \n",
    "    sparam_mag_col = {\"S11\": 1,\n",
    "                      \"S21\": 3,\n",
    "                      \"S12\": 5,\n",
    "                      \"S22\": 7}\n",
    "    \n",
    "    checkmasks2(masks)  # Check masks. This should be done only once, but whatever\n",
    "    \n",
    "    # check matrix dimensions\n",
    "    valid_shape = (N_POINTS, 9)\n",
    "    shape = np.shape(mat)\n",
    "    if (shape != valid_shape):  # check number of rows and cols\n",
    "        raise Exception(f\"Unexpected matrix shape: {shape}. Expected: {valid_shape}\\n\")\n",
    "    \n",
    "    error = 0  # total error, added in every iteration of mask check\n",
    "    \n",
    "    # Calculate the error\n",
    "    for mask in masks:\n",
    "        mask_error = 0  # per-mask error. \n",
    "    \n",
    "        sparam = mask['sparam']\n",
    "        value = mask['value']\n",
    "        weight = mask['weight']\n",
    "        orientation = mask['orientation']\n",
    "        flow = mask['flow'] * 1e9\n",
    "        fhigh = mask['fhigh'] * 1e9\n",
    "    \n",
    "        # Search the low and high frequency indexes that define the window inside the \n",
    "        # s2p-matrix, that we will use to calculate the error. If it doesn't match, it'll\n",
    "        # use the most restrictive case (immediately lower or higher)\n",
    "    \n",
    "        # Find the index of the first value that is lower/greater or equal than the \n",
    "        # objective frequency. In the argmax() search, the FREQ array is flipped to ensure\n",
    "        # that the found index does not narrow the defined window.\n",
    "        \n",
    "        flow_index = (len(FREQ) - 1) - np.argmax(FREQ[::-1] <= flow)\n",
    "        fhigh_index = np.argmax(FREQ >= fhigh)\n",
    "\n",
    "        # extracts sub-matrix of relevant s-param values from mat\n",
    "        s_param_values = mat[flow_index:fhigh_index + 1, sparam_mag_col[sparam]]\n",
    "        diff = value - s_param_values  # difference vector (how far from value?)\n",
    "    \n",
    "        if orientation == '>':  # 'greater than' the 'value'\n",
    "            mask_error = weight * np.sum(diff[diff > 0])  # only sum them if diff > 0\n",
    "        \n",
    "        else:  # 'smaller than' the 'value'\n",
    "            mask_error = weight * np.abs(np.sum(diff[diff < 0]))  # only sum them if diff < 0\n",
    "\n",
    "        error += mask_error\n",
    "\n",
    "    return error\n"
   ]
  },
  {
   "cell_type": "code",
   "execution_count": 2,
   "id": "28e104a8-5f44-49b9-831e-30f39caa0a66",
   "metadata": {},
   "outputs": [
    {
     "ename": "NameError",
     "evalue": "name 'np' is not defined",
     "output_type": "error",
     "traceback": [
      "\u001b[0;31m---------------------------------------------------------------------------\u001b[0m",
      "\u001b[0;31mNameError\u001b[0m                                 Traceback (most recent call last)",
      "Cell \u001b[0;32mIn[2], line 1\u001b[0m\n\u001b[0;32m----> 1\u001b[0m shape \u001b[38;5;241m=\u001b[39m \u001b[43mnp\u001b[49m\u001b[38;5;241m.\u001b[39mshape(mat)\n",
      "\u001b[0;31mNameError\u001b[0m: name 'np' is not defined"
     ]
    }
   ],
   "source": [
    "\n",
    "shape = np.shape(mat)"
   ]
  },
  {
   "cell_type": "markdown",
   "id": "af4d888c-5252-4088-911a-5126dff2692f",
   "metadata": {},
   "source": [
    "# Optimization with scipy\n",
    "\n",
    "Unconstrained minimization of multivariate scalar functions (minimize)\n",
    "\n",
    "Examples from: https://docs.scipy.org/doc/scipy/tutorial/optimize.html"
   ]
  },
  {
   "cell_type": "code",
   "execution_count": 4,
   "id": "c43cf362-6906-40ee-95c2-64837208b195",
   "metadata": {},
   "outputs": [],
   "source": [
    "from scipy.optimize import minimize, Bounds, OptimizeResult\n",
    "import numpy as np"
   ]
  },
  {
   "cell_type": "code",
   "execution_count": null,
   "id": "d03a6275-d502-4f29-b426-acb1edef54eb",
   "metadata": {},
   "outputs": [],
   "source": []
  },
  {
   "cell_type": "code",
   "execution_count": 5,
   "id": "4e0337bb-78b7-4456-9ce9-4e76ca5293cf",
   "metadata": {},
   "outputs": [],
   "source": [
    "x = np.arange(5)\n",
    "y,z,u,v,w = x"
   ]
  },
  {
   "cell_type": "code",
   "execution_count": 15,
   "id": "50e8576f-3499-4e17-acde-0b82e824f1b2",
   "metadata": {},
   "outputs": [],
   "source": [
    "def rosen(x, a, b, c):\n",
    "    \"\"\"The Rosenbrock function\"\"\"\n",
    "    return sum((a*x[1:]-x[:-1]**a)**2.0 * b + c + (1-x[:-1])**2.0)"
   ]
  },
  {
   "cell_type": "code",
   "execution_count": 22,
   "id": "f0f51def-bbc4-454e-9714-7a91684faadd",
   "metadata": {},
   "outputs": [
    {
     "name": "stdout",
     "output_type": "stream",
     "text": [
      "Optimization terminated successfully.\n",
      "         Current function value: 1293.259243\n",
      "         Iterations: 131\n",
      "         Function evaluations: 223\n"
     ]
    }
   ],
   "source": [
    "x1 = np.array([1.7, 2.0, 0.2, 1.1, 1.9])\n",
    "\n",
    "bounds = ( (0,20), (0,20), (0,20), (0,20), (0,20) )\n",
    "\n",
    "res1 = minimize(rosen, x1, args=(3, 210, 323), method='nelder-mead',\n",
    "               options={'xatol': 1e-2, 'disp': True}, bounds=bounds)"
   ]
  },
  {
   "cell_type": "code",
   "execution_count": 23,
   "id": "332bfc3c-5650-4cce-9853-85c4de183eb7",
   "metadata": {},
   "outputs": [
    {
     "data": {
      "text/plain": [
       "array([1.57046864, 1.29111586, 0.71758374, 0.12342524, 0.        ])"
      ]
     },
     "execution_count": 23,
     "metadata": {},
     "output_type": "execute_result"
    }
   ],
   "source": [
    "res1.x"
   ]
  },
  {
   "cell_type": "code",
   "execution_count": 24,
   "id": "b9c548f0-a311-436e-a54a-81086b3b8ef2",
   "metadata": {},
   "outputs": [],
   "source": [
    "historic = []\n",
    "\n",
    "def opt_callback(intermediate_result):\n",
    "    \"\"\"\n",
    "    A callback function which is called at the end of every iteration of the optimization. \n",
    "    Saves intermediate data in an historic\n",
    "    :param intermediate_result: scipy.optimize.OptimizeResult object\n",
    "    intermediate_result MUST be called this way, otherwise scipy wont pass the argument to\n",
    "    the callback correctly\n",
    "    \"\"\"\n",
    "    # Log into historic the\n",
    "    historic.append((intermediate_result.fun, intermediate_result.x))  # function input variables\n",
    "\n",
    "def rosen2(x, a, b):\n",
    "    \"\"\"\n",
    "    The Rosenbrock function ((Modified for multivariable))\n",
    "    \"\"\"\n",
    "    \n",
    "    y,z,u,v,w = x\n",
    "    result = a * b * 100.0*(y-z**2.0)**2.0 + w * (1-u*v)**2.0\n",
    "    return result"
   ]
  },
  {
   "cell_type": "code",
   "execution_count": 32,
   "id": "a24017d4-560a-4d9e-974e-e5b5bedd301d",
   "metadata": {
    "scrolled": true
   },
   "outputs": [
    {
     "name": "stdout",
     "output_type": "stream",
     "text": [
      "Optimization terminated successfully.\n",
      "         Current function value: 0.792695\n",
      "         Iterations: 22\n",
      "         Function evaluations: 40\n"
     ]
    }
   ],
   "source": [
    "x2 = np.array([1.3, 0.7, 0.8, 1.9, 1.2])\n",
    "historic = []\n",
    "res2 = minimize(rosen2, x2, method='nelder-mead', args=(3,2), callback=opt_callback, tol=1, options={'xatol': 1, 'disp': True})"
   ]
  },
  {
   "cell_type": "code",
   "execution_count": 33,
   "id": "4082b58f-f712-4168-a429-503ae748cb11",
   "metadata": {
    "scrolled": true
   },
   "outputs": [
    {
     "data": {
      "text/plain": [
       "[(np.float64(254.0878312581146), array([1.17 , 0.721, 0.824, 1.957, 1.236])),\n",
       " (np.float64(254.0878312581146), array([1.17 , 0.721, 0.824, 1.957, 1.236])),\n",
       " (np.float64(254.0878312581146), array([1.17 , 0.721, 0.824, 1.957, 1.236])),\n",
       " (np.float64(188.89431019248823),\n",
       "  array([1.14712 , 0.765856, 0.817664, 1.887232, 1.156896])),\n",
       " (np.float64(99.66580478290912),\n",
       "  array([1.055392 , 0.8053696, 0.8282624, 1.8795712, 1.2510336])),\n",
       " (np.float64(99.66580478290912),\n",
       "  array([1.055392 , 0.8053696, 0.8282624, 1.8795712, 1.2510336])),\n",
       " (np.float64(25.131492308314236),\n",
       "  array([0.88727808, 0.8273879 , 0.79674778, 2.04195949, 1.21447526])),\n",
       " (np.float64(25.131492308314236),\n",
       "  array([0.88727808, 0.8273879 , 0.79674778, 2.04195949, 1.21447526])),\n",
       " (np.float64(3.969389554803653),\n",
       "  array([0.83848993, 0.87254034, 0.82868361, 1.9032563 , 1.19128679])),\n",
       " (np.float64(0.7926949324388347),\n",
       "  array([0.73791791, 0.87035807, 0.83942746, 1.97943402, 1.28414711])),\n",
       " (np.float64(0.7926949324388347),\n",
       "  array([0.73791791, 0.87035807, 0.83942746, 1.97943402, 1.28414711])),\n",
       " (np.float64(0.7926949324388347),\n",
       "  array([0.73791791, 0.87035807, 0.83942746, 1.97943402, 1.28414711])),\n",
       " (np.float64(0.7926949324388347),\n",
       "  array([0.73791791, 0.87035807, 0.83942746, 1.97943402, 1.28414711])),\n",
       " (np.float64(0.7926949324388347),\n",
       "  array([0.73791791, 0.87035807, 0.83942746, 1.97943402, 1.28414711])),\n",
       " (np.float64(0.7926949324388347),\n",
       "  array([0.73791791, 0.87035807, 0.83942746, 1.97943402, 1.28414711])),\n",
       " (np.float64(0.7926949324388347),\n",
       "  array([0.73791791, 0.87035807, 0.83942746, 1.97943402, 1.28414711])),\n",
       " (np.float64(0.7926949324388347),\n",
       "  array([0.73791791, 0.87035807, 0.83942746, 1.97943402, 1.28414711])),\n",
       " (np.float64(0.7926949324388347),\n",
       "  array([0.73791791, 0.87035807, 0.83942746, 1.97943402, 1.28414711])),\n",
       " (np.float64(0.7926949324388347),\n",
       "  array([0.73791791, 0.87035807, 0.83942746, 1.97943402, 1.28414711])),\n",
       " (np.float64(0.7926949324388347),\n",
       "  array([0.73791791, 0.87035807, 0.83942746, 1.97943402, 1.28414711])),\n",
       " (np.float64(0.7926949324388347),\n",
       "  array([0.73791791, 0.87035807, 0.83942746, 1.97943402, 1.28414711])),\n",
       " (np.float64(0.7926949324388347),\n",
       "  array([0.73791791, 0.87035807, 0.83942746, 1.97943402, 1.28414711]))]"
      ]
     },
     "execution_count": 33,
     "metadata": {},
     "output_type": "execute_result"
    }
   ],
   "source": [
    "historic"
   ]
  },
  {
   "cell_type": "code",
   "execution_count": 27,
   "id": "4b07f7f6-37b3-4064-9b20-359876e6c386",
   "metadata": {},
   "outputs": [
    {
     "data": {
      "text/plain": [
       "array([1.04756723, 1.02350737, 0.72660862, 1.37625267, 0.84062289])"
      ]
     },
     "execution_count": 27,
     "metadata": {},
     "output_type": "execute_result"
    }
   ],
   "source": [
    "res2.x"
   ]
  },
  {
   "cell_type": "code",
   "execution_count": null,
   "id": "41112778-e168-4acd-b065-c451669fac88",
   "metadata": {},
   "outputs": [],
   "source": [
    "historic"
   ]
  },
  {
   "cell_type": "code",
   "execution_count": 1,
   "id": "66ace66c-e5b0-466f-a24d-cd3ceb92505c",
   "metadata": {},
   "outputs": [],
   "source": [
    "import numpy as np\n",
    "csv_file = \"test.csv\"\n",
    "\n",
    "historic = [(1, 32131, [4, 5, 3]), (2, 65431, [6, 4, 2]), (3, 123, [1, 1, 1])]\n",
    "\n",
    "# np.asarray(historic)"
   ]
  },
  {
   "cell_type": "code",
   "execution_count": 2,
   "id": "013b903c-3ec0-4966-b70c-86d48332b27d",
   "metadata": {},
   "outputs": [
    {
     "ename": "ValueError",
     "evalue": "setting an array element with a sequence. The requested array has an inhomogeneous shape after 2 dimensions. The detected shape was (3, 3) + inhomogeneous part.",
     "output_type": "error",
     "traceback": [
      "\u001b[0;31m---------------------------------------------------------------------------\u001b[0m",
      "\u001b[0;31mValueError\u001b[0m                                Traceback (most recent call last)",
      "Cell \u001b[0;32mIn[2], line 1\u001b[0m\n\u001b[0;32m----> 1\u001b[0m \u001b[43mnp\u001b[49m\u001b[38;5;241;43m.\u001b[39;49m\u001b[43msavetxt\u001b[49m\u001b[43m(\u001b[49m\u001b[43mcsv_file\u001b[49m\u001b[43m,\u001b[49m\u001b[43m \u001b[49m\u001b[43mhistoric\u001b[49m\u001b[43m,\u001b[49m\u001b[43m \u001b[49m\u001b[43mdelimiter\u001b[49m\u001b[38;5;241;43m=\u001b[39;49m\u001b[38;5;124;43m'\u001b[39;49m\u001b[38;5;124;43m,\u001b[39;49m\u001b[38;5;124;43m'\u001b[39;49m\u001b[43m,\u001b[49m\u001b[43m \u001b[49m\u001b[43mfmt\u001b[49m\u001b[38;5;241;43m=\u001b[39;49m\u001b[38;5;124;43m\"\u001b[39;49m\u001b[38;5;132;43;01m%s\u001b[39;49;00m\u001b[38;5;124;43m\"\u001b[39;49m\u001b[43m)\u001b[49m\n",
      "File \u001b[0;32m~/ReconfigurableFilter/Jupyter/venv/lib/python3.11/site-packages/numpy/lib/npyio.py:1566\u001b[0m, in \u001b[0;36msavetxt\u001b[0;34m(fname, X, fmt, delimiter, newline, header, footer, comments, encoding)\u001b[0m\n\u001b[1;32m   1563\u001b[0m     \u001b[38;5;28;01mraise\u001b[39;00m \u001b[38;5;167;01mValueError\u001b[39;00m(\u001b[38;5;124m'\u001b[39m\u001b[38;5;124mfname must be a string or file handle\u001b[39m\u001b[38;5;124m'\u001b[39m)\n\u001b[1;32m   1565\u001b[0m \u001b[38;5;28;01mtry\u001b[39;00m:\n\u001b[0;32m-> 1566\u001b[0m     X \u001b[38;5;241m=\u001b[39m \u001b[43mnp\u001b[49m\u001b[38;5;241;43m.\u001b[39;49m\u001b[43masarray\u001b[49m\u001b[43m(\u001b[49m\u001b[43mX\u001b[49m\u001b[43m)\u001b[49m\n\u001b[1;32m   1568\u001b[0m     \u001b[38;5;66;03m# Handle 1-dimensional arrays\u001b[39;00m\n\u001b[1;32m   1569\u001b[0m     \u001b[38;5;28;01mif\u001b[39;00m X\u001b[38;5;241m.\u001b[39mndim \u001b[38;5;241m==\u001b[39m \u001b[38;5;241m0\u001b[39m \u001b[38;5;129;01mor\u001b[39;00m X\u001b[38;5;241m.\u001b[39mndim \u001b[38;5;241m>\u001b[39m \u001b[38;5;241m2\u001b[39m:\n",
      "\u001b[0;31mValueError\u001b[0m: setting an array element with a sequence. The requested array has an inhomogeneous shape after 2 dimensions. The detected shape was (3, 3) + inhomogeneous part."
     ]
    }
   ],
   "source": [
    "np.savetxt(csv_file, historic, delimiter=',', fmt=\"%s\")"
   ]
  },
  {
   "cell_type": "code",
   "execution_count": 3,
   "id": "7a8adf7c-caa6-4950-aa0c-5e7008cb3574",
   "metadata": {},
   "outputs": [],
   "source": [
    "import csv\n",
    "\n",
    "with open(csv_file, 'w', newline='') as f:\n",
    "    writer = csv.writer(f)\n",
    "    writer.writerows(historic)"
   ]
  },
  {
   "cell_type": "code",
   "execution_count": 4,
   "id": "fe64bb67-2376-4589-82e0-76b28226d42f",
   "metadata": {},
   "outputs": [
    {
     "ename": "TypeError",
     "evalue": "cannot unpack non-iterable NoneType object",
     "output_type": "error",
     "traceback": [
      "\u001b[0;31m---------------------------------------------------------------------------\u001b[0m",
      "\u001b[0;31mTypeError\u001b[0m                                 Traceback (most recent call last)",
      "Cell \u001b[0;32mIn[4], line 1\u001b[0m\n\u001b[0;32m----> 1\u001b[0m res, historic \u001b[38;5;241m=\u001b[39m \u001b[38;5;28;01mNone\u001b[39;00m\n",
      "\u001b[0;31mTypeError\u001b[0m: cannot unpack non-iterable NoneType object"
     ]
    }
   ],
   "source": [
    "res, historic = None"
   ]
  },
  {
   "cell_type": "code",
   "execution_count": 5,
   "id": "7bc33562-7d2e-40af-a154-d90c422bc1db",
   "metadata": {},
   "outputs": [
    {
     "data": {
      "text/plain": [
       "'[(1, 32131, [4, 5, 3]), (2, 65431, [6, 4, 2]), (3, 123, [1, 1, 1])]'"
      ]
     },
     "execution_count": 5,
     "metadata": {},
     "output_type": "execute_result"
    }
   ],
   "source": [
    "str(historic)"
   ]
  },
  {
   "cell_type": "code",
   "execution_count": 8,
   "id": "b2827be9-5549-4091-9289-a2747d1b5f38",
   "metadata": {},
   "outputs": [
    {
     "name": "stdout",
     "output_type": "stream",
     "text": [
      "1\n",
      "2\n",
      "3\n"
     ]
    }
   ],
   "source": [
    "for i in range(len(historic)):\n",
    "    line = str(int(historic[i][0]))\n",
    "    print(line)"
   ]
  },
  {
   "cell_type": "code",
   "execution_count": 11,
   "id": "c187e691-139d-463c-ac83-8b1608a91726",
   "metadata": {},
   "outputs": [],
   "source": [
    "import numpy as np\n",
    "\n",
    "def add_mask(sparam, orientation, value, flow, fhigh, weight):\n",
    "    \"\"\"\n",
    "    Defines an optimization mask dictionary in a standard format\n",
    "    :param sparam: S-parameter to optimize: S11, S12, S21, S22. String.\n",
    "    :param orientation: orientation: greater than, less than ('<','>')\n",
    "    :param value: value to compare to in the opt, in dB: e.g.: S11 < -20 (dB)\n",
    "    :param freq_lim_low: Lower frequency limit of the window, in GHz\n",
    "    :param freq_lim_high: Upper frequency limit of the window, in GHz\n",
    "    :param weight: Weight in the optimization algorithm. Scalar.\n",
    "    :return a standardized dict with the above parameters\n",
    "    \"\"\"\n",
    "    \n",
    "    return {'sparam': sparam,  # parameter to optimize\n",
    "            'orientation': orientation,  # orientation: greater than, less than ('<','>')\n",
    "            'value': value,  # value to compare to in the opt.: e.g.: S11 < -20 (dB)\n",
    "            'flow': flow,  # Lower frequency limit, in GHz\n",
    "            'fhigh': fhigh,  # Upper frequency limit, in GHz\n",
    "            'weight': weight}  # Weight in the optimization algorithm\n",
    "\n",
    "\n",
    "def check_masks(masks, sweep_config):\n",
    "    \"\"\"\n",
    "    Checks mask in a masks list\n",
    "    :param masks: optimization mask (list of dicts, format: see addwindow() func.)\n",
    "    :param mat: s2p data matrix,\n",
    "    \"\"\"\n",
    "\n",
    "    # Unpack sweep config for convenience\n",
    "    f_min = int(sweep_config[\"f_min\"] * 1e-9)  # Hz to GHz to compare with masks\n",
    "    f_max = int(sweep_config[\"f_max\"] * 1e-9)\n",
    "\n",
    "    print(f_min)\n",
    "    print(f_max)\n",
    "\n",
    "    # Define valid parameters\n",
    "    valid_sparam = (\"S11\", \"S12\", \"S21\", \"S22\")\n",
    "    valid_orientation = (\"<\", \">\")\n",
    "\n",
    "    # Check masks\n",
    "    for mask in masks:\n",
    "        \n",
    "        # unpack mask\n",
    "        flow = mask['flow']\n",
    "        fhigh = mask['fhigh']\n",
    "        sparam = mask['sparam']\n",
    "        orientation = mask['orientation']\n",
    "        \n",
    "        assert flow >= f_min, f\"flow cannnot be lower than F_MIN.\\nMask: {mask}\"\n",
    "        assert fhigh <= f_max, f\"fhigh cannnot be greater than F_MAX.\\nMask: {mask}\"\n",
    "        assert flow <= fhigh, f\"flow cannnot be greater than fhigh.\\nMask: {mask}\"\n",
    "        assert sparam in valid_sparam, f\"Unvalid S-param. Allowed: {valid_sparam}\\n \\\n",
    "            Mask: {mask}\"\n",
    "        assert orientation in valid_orientation, f\"Unvalid orientation. Allowed: \\\n",
    "            {valid_orientation}\\nMask: {mask}\""
   ]
  },
  {
   "cell_type": "code",
   "execution_count": 12,
   "id": "80bd8339-ba9a-4179-a7d6-b3faeaac9cce",
   "metadata": {},
   "outputs": [],
   "source": [
    "\n",
    "# Set goals\n",
    "MASKS = [] # List of masks (goal windows)\n",
    "MASKS.append(add_mask(sparam='S11', orientation='<', value=-20, flow=3, fhigh=3.1, weight=20))\n",
    "MASKS.append(add_mask(sparam='S21', orientation='>', value=-2, flow=3, fhigh=3.1, weight=20))\n",
    "MASKS.append(add_mask(sparam='S21', orientation='<', value=-15, flow=1, fhigh=2.5, weight=1))\n",
    "MASKS.append(add_mask(sparam='S21', orientation='<', value=-15, flow=3.9, fhigh=5.5, weight=1))\n"
   ]
  },
  {
   "cell_type": "code",
   "execution_count": 13,
   "id": "96f85fee-80e7-449d-b143-5b5dc7112901",
   "metadata": {},
   "outputs": [],
   "source": [
    "\n",
    "F_MIN = 2e9  # [Hz] Default: 2e9 (2 GHz)\n",
    "F_MAX = 6e9  # [Hz] Default: 6e9 (6 GHz)\n",
    "N_POINTS = 201  # Number of measurement points. Default: 201\n",
    "\n",
    "# dictionary that contains the sweep configuration\n",
    "SWEEP_CONFIG = {\n",
    "    \"f_min\": F_MIN,  # minimum frequency\n",
    "    \"f_max\": F_MAX,  # maximum frequency\n",
    "    \"n_points\": N_POINTS,  # number of points\n",
    "    \"freq\": np.linspace(F_MIN, F_MAX, N_POINTS)  # freq vector\n",
    "}"
   ]
  },
  {
   "cell_type": "code",
   "execution_count": 14,
   "id": "a7f7b1d7-c32e-493a-9cd5-f212be30eae6",
   "metadata": {},
   "outputs": [
    {
     "name": "stdout",
     "output_type": "stream",
     "text": [
      "2\n",
      "6\n",
      "MASKS ARE NOT CORRECTLY SETUP:\n",
      "flow cannnot be lower than F_MIN.\n",
      "Mask: {'sparam': 'S21', 'orientation': '<', 'value': -15, 'flow': 1, 'fhigh': 2.5, 'weight': 1}\n"
     ]
    }
   ],
   "source": [
    "\n",
    "# Checks if masks are correctly defined\n",
    "try:\n",
    "    check_masks(masks=MASKS, sweep_config=SWEEP_CONFIG)  \n",
    "    print(\"Masks checked\")\n",
    "\n",
    "except AssertionError as e:\n",
    "    print(f\"MASKS ARE NOT CORRECTLY SETUP:\\n{str(e)}\")\n"
   ]
  },
  {
   "cell_type": "code",
   "execution_count": 21,
   "id": "5c510ea6-abac-4fb3-900b-23c34c5c3b55",
   "metadata": {},
   "outputs": [],
   "source": [
    "def shutdown():\n",
    "    print(\"shutdown\")"
   ]
  },
  {
   "cell_type": "code",
   "execution_count": 23,
   "id": "09d8eaeb-d27a-4f67-84aa-db091b740142",
   "metadata": {},
   "outputs": [
    {
     "name": "stdin",
     "output_type": "stream",
     "text": [
      "shutdown? [y/n] n\n",
      "shutdown? [y/n] n\n",
      "shutdown? [y/n] sadasd\n",
      "shutdown? [y/n] y\n"
     ]
    },
    {
     "name": "stdout",
     "output_type": "stream",
     "text": [
      "shutdown\n"
     ]
    }
   ],
   "source": [
    "while True:\n",
    "    if input(\"shutdown? [y/n]\") in (\"y\", \"Y\"):\n",
    "        shutdown()\n",
    "        break"
   ]
  },
  {
   "cell_type": "code",
   "execution_count": null,
   "id": "9fde41a9-7612-485b-abc0-a906d51384f3",
   "metadata": {},
   "outputs": [],
   "source": []
  }
 ],
 "metadata": {
  "kernelspec": {
   "display_name": "Python 3 (ipykernel)",
   "language": "python",
   "name": "python3"
  },
  "language_info": {
   "codemirror_mode": {
    "name": "ipython",
    "version": 3
   },
   "file_extension": ".py",
   "mimetype": "text/x-python",
   "name": "python",
   "nbconvert_exporter": "python",
   "pygments_lexer": "ipython3",
   "version": "3.12.7"
  }
 },
 "nbformat": 4,
 "nbformat_minor": 5
}
