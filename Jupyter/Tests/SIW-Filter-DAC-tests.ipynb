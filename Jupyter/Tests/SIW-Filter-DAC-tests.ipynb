{
 "cells": [
  {
   "cell_type": "markdown",
   "id": "045f1ac1-40e9-421c-9676-aec1f0ab43cc",
   "metadata": {},
   "source": [
    "# R&S ZNB/ZNBT VNA - DAC voltages test program\n",
    "\n",
    "- **Author:** Juan del Pino Mena\n",
    "- **Version:** v00\n",
    "- **Date:** 2024-02-07\n"
   ]
  },
  {
   "cell_type": "markdown",
   "id": "a9ba7527-8991-4479-8758-54e153281ea0",
   "metadata": {},
   "source": [
    "# Tests"
   ]
  },
  {
   "cell_type": "code",
   "execution_count": null,
   "id": "c673fefe-c3b9-4e94-b17e-8e7861b7c1b4",
   "metadata": {},
   "outputs": [],
   "source": []
  },
  {
   "cell_type": "code",
   "execution_count": 1,
   "id": "65a41a6c-8d5c-4e0c-bb60-04cfa8c58747",
   "metadata": {},
   "outputs": [],
   "source": [
    "def set_voltage(vector):\n",
    "    \"\"\"\n",
    "    Sets a voltage in the DACs\n",
    "    :param vector: 3-position vector of voltages to set according to each channel\n",
    "    \"\"\"\n",
    "\n",
    "    for j, voltage in enumerate(vector):\n",
    "\n",
    "        # clips voltages to the maximum=30 and minimum=0, for safety\n",
    "        if voltage < 0:\n",
    "            voltage = 0\n",
    "        elif voltage > 30:\n",
    "            voltage = 30\n",
    "\n",
    "        # transforms the digit into a 12-bit range\n",
    "        # // : floor division\n",
    "        digit = int((voltage * 4095) // 30)  # important! 4095, not 4096!\n",
    "\n",
    "        digit_bytes = digit & 0x0FFF  # mask : put 0's in the leftmost part\n",
    "        digit_bytes = digit_bytes | ((int(j + 2)) << 12)  # select channel\n",
    "\n",
    "        # Divide the 2 bytes in two bytes: 8 MSB (high part) and 8 LSB (low part)\n",
    "        b = digit_bytes  # it's going to be clipped at its 8 LSB by the function\n",
    "        a = digit_bytes >> 8  # high part\n",
    "\n",
    "        print(f\"{a}\\t{a:02X}\\t;\\t{b}\\t{b:02X}\")\n",
    "        # spi.xfer2([a, b])"
   ]
  },
  {
   "cell_type": "code",
   "execution_count": 2,
   "id": "7f22f938-0ea0-4f1a-a205-13d6e3eb8512",
   "metadata": {},
   "outputs": [
    {
     "name": "stdout",
     "output_type": "stream",
     "text": [
      "34\t22\t;\t8874\t22AA\n",
      "54\t36\t;\t13857\t3621\n",
      "79\t4F\t;\t20479\t4FFF\n"
     ]
    }
   ],
   "source": [
    "set_voltage([5, 11.5, 30])"
   ]
  },
  {
   "cell_type": "code",
   "execution_count": null,
   "id": "7253c599-b0d5-4ff8-a49f-1ddc37b276b9",
   "metadata": {},
   "outputs": [],
   "source": []
  }
 ],
 "metadata": {
  "kernelspec": {
   "display_name": "Python 3 (ipykernel)",
   "language": "python",
   "name": "python3"
  },
  "language_info": {
   "codemirror_mode": {
    "name": "ipython",
    "version": 3
   },
   "file_extension": ".py",
   "mimetype": "text/x-python",
   "name": "python",
   "nbconvert_exporter": "python",
   "pygments_lexer": "ipython3",
   "version": "3.12.7"
  }
 },
 "nbformat": 4,
 "nbformat_minor": 5
}
